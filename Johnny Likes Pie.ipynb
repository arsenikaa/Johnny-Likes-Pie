{
 "cells": [
  {
   "cell_type": "markdown",
   "metadata": {
    "id": "f1N2pu7LxKUY"
   },
   "source": [
    "# DTSC670: Foundations of Machine Learning Models\n",
    "\n",
    "## Assignment 1: Johnny Likes Pie\n",
    "\n",
    "#### Name: Arsenika Merenkov"
   ]
  },
  {
   "cell_type": "markdown",
   "metadata": {
    "id": "T1R5rZiGxKUl"
   },
   "source": [
    "### CodeGrade\n",
    "Note that this assignment will be automatically graded through CodeGrade and you will have unlimited submission attempts.  When submitting to CodeGrade, your notebook should be named `assignment1.ipynb` and there should be no errors in the file or CodeGrade will not be able to grade it.  Before submitting, I suggest that you restart your kernel and attempt to run all cells again to ensure that there will be no errors when CodeGrade runs your script.\n",
    "\n",
    "### Details\n",
    "\n",
    "First, make sure that you watch the video titled \"Should You Play Golf Today\" in the \"Preparation for Assignment 1\" section of Brightspace.  This assignment is meant to purely allow you to perform some basic steps with Scikit-Learn to get you used to working with it.\n",
    "\n",
    "The following data describes features of different types of pie, along with a positive or negative classification of the pie based whether or not Johnny likes it.  A positive classification means Johnny likes that pie; a negative classification means Johnny does not like that pie.\n",
    "\n",
    "<img src=\"JohnnyPies.png \" width =\"600\" />\n",
    "\n",
    "### Import Data\n",
    "\n",
    "Let's start out by importing some standard imports."
   ]
  },
  {
   "cell_type": "code",
   "execution_count": null,
   "metadata": {},
   "outputs": [],
   "source": [
    "# Importing numpy and pandas library\n",
    "import numpy as np\n",
    "import pandas as pd\n",
    "\n",
    "# Set the maximum number of columns to None to display all columns in the DataFrame\n",
    "# Do not change these options; This allows the CodeGrade auto grading to function correctly\n",
    "pd.set_option('display.max_columns', None)\n",
    "import warnings\n",
    "warnings.filterwarnings('ignore') "
   ]
  },
  {
   "cell_type": "markdown",
   "metadata": {},
   "source": [
    "Next you should place the data file called `JohnnyPiesData.csv` and this Jupyter notebook in the same directory.  Use the [read_csv()](https://pandas.pydata.org/pandas-docs/stable/reference/api/pandas.read_csv.html) function to read in the data from the comma-separated values (csv) file to a Pandas DataFrame called `pie_df` and output the data to take a look."
   ]
  },
  {
   "cell_type": "code",
   "execution_count": null,
   "metadata": {
    "id": "I1lAMsOYxKUm",
    "outputId": "21650b86-502c-41ce-bb70-1c21a3900438"
   },
   "outputs": [],
   "source": [
    "# Store the file name of the data in a variable\n",
    "fileName = \"JohnnyPiesData.csv\"\n",
    "\n",
    "# Read the csv file and store it in a dataframe\n",
    "pie_df = pd.read_csv(fileName)\n",
    "pie_df"
   ]
  },
  {
   "cell_type": "markdown",
   "metadata": {
    "id": "hgkIaAu8xKUp"
   },
   "source": [
    "## Prepare Data for Linear Regression"
   ]
  },
  {
   "cell_type": "markdown",
   "metadata": {
    "id": "VcpqVN0_xKUp"
   },
   "source": [
    "- Drop the `Example` column from the `pie_df` DataFrame, because it offers no information.\n",
    "\n",
    "- Encode all categorical data into numeric data via the \"One Hot Encoding\" technique provided by the Pandas [get_dummies()](https://pandas.pydata.org/pandas-docs/stable/reference/api/pandas.get_dummies.html) function.  \n",
    "\n",
    "  - Since we are performing ordinary least squares linear regression, we will want to drop one of the newly created Boolean-valued features (output from the `get_dummies()` function) to prevent introducing unwanted correlation in the data.  Include `drop_first = True` as an argument to the `get_dummies()` function.\n",
    "\n",
    "- Store the final features in a DataFrame called `features`.  The one-hot-encoded columns must go in the same order as the original data so that the linear regression coefficients match what CodeGrade is expecting.\n",
    "\n",
    "- Store the positive class labels in a DataFrame called `response`.  The `response` data must be a DataFrame and not a Series or some of the code towards the end of this notebook may not function correctly and your output might be slightly different than what CodeGrade is expecting.\n",
    "\n",
    "**Note:** Since we are not concerned with generalization error in this assignment, we will not split our data into training and test sets. In 'real-world' projects, you would want to split your data to see how your model performs with data that it has never seen before."
   ]
  },
  {
   "cell_type": "code",
   "execution_count": null,
   "metadata": {
    "id": "Rdl27SrzxKUq",
    "outputId": "a82aacb2-d422-4d51-e306-e36c5372dd8b"
   },
   "outputs": [],
   "source": [
    "# Remove the Example column from the dataframe\n",
    "pie_df = pie_df.drop('Example', axis = 1)\n",
    "pie_df"
   ]
  },
  {
   "cell_type": "code",
   "execution_count": null,
   "metadata": {},
   "outputs": [],
   "source": [
    "# Using one-hot encoding to convert categorical variables into numerical ones. The drop_first=True argument specifies that the first binary column should be dropped, resulting in one less column than the number of unique values in the original column\n",
    "features = pd.get_dummies(pie_df, columns = ['Crust Shape', 'Crust Size', 'Crust Shade', 'Filling Size', 'Filling Shade', 'Class'], drop_first=True)\n",
    "features"
   ]
  },
  {
   "cell_type": "code",
   "execution_count": null,
   "metadata": {},
   "outputs": [],
   "source": [
    "# Extracting the column 'Class_pos' from the dataframe from features and assigning to a new dataframe called response.\n",
    "# Class_pos is a depenendent variable (or response variable) which will be used to predict using the Linear regression model.\n",
    "response = features[['Class_pos']]\n",
    "response"
   ]
  },
  {
   "cell_type": "markdown",
   "metadata": {
    "id": "tIS1zHOoxKUs"
   },
   "source": [
    "## Perfrom Linear Regression Model Fitting\n",
    "\n",
    "1. Import the [LinearRegression](https://scikit-learn.org/stable/modules/generated/sklearn.linear_model.LinearRegression.html) class from the `sklearn.linear_model` library. \n",
    "\n",
    "2. Instantiate an object of the `LinearRegression` class called `reg_model`.\n",
    "\n",
    "3. Train the model by invoking the `fit()` method of the `reg_model` object and passing it `features` and `response`."
   ]
  },
  {
   "cell_type": "code",
   "execution_count": 1,
   "metadata": {
    "id": "IlnnCVQHxKUs",
    "outputId": "5cbca257-2905-4de4-fa9a-ca0cb0b5bfa5"
   },
   "outputs": [
    {
     "ename": "ModuleNotFoundError",
     "evalue": "No module named 'sklearn'",
     "output_type": "error",
     "traceback": [
      "\u001b[1;31m---------------------------------------------------------------------------\u001b[0m",
      "\u001b[1;31mModuleNotFoundError\u001b[0m                       Traceback (most recent call last)",
      "\u001b[1;32mc:\\Users\\arsen\\OneDrive\\Desktop\\ML Class\\assignment1.ipynb Cell 12\u001b[0m in \u001b[0;36m<cell line: 2>\u001b[1;34m()\u001b[0m\n\u001b[0;32m      <a href='vscode-notebook-cell:/c%3A/Users/arsen/OneDrive/Desktop/ML%20Class/assignment1.ipynb#X14sZmlsZQ%3D%3D?line=0'>1</a>\u001b[0m \u001b[39m# \u001b[39;00m\n\u001b[1;32m----> <a href='vscode-notebook-cell:/c%3A/Users/arsen/OneDrive/Desktop/ML%20Class/assignment1.ipynb#X14sZmlsZQ%3D%3D?line=1'>2</a>\u001b[0m \u001b[39mfrom\u001b[39;00m \u001b[39msklearn\u001b[39;00m\u001b[39m.\u001b[39;00m\u001b[39mlinear_model\u001b[39;00m \u001b[39mimport\u001b[39;00m LinearRegression\n\u001b[0;32m      <a href='vscode-notebook-cell:/c%3A/Users/arsen/OneDrive/Desktop/ML%20Class/assignment1.ipynb#X14sZmlsZQ%3D%3D?line=2'>3</a>\u001b[0m reg_model \u001b[39m=\u001b[39m LinearRegression()\n\u001b[0;32m      <a href='vscode-notebook-cell:/c%3A/Users/arsen/OneDrive/Desktop/ML%20Class/assignment1.ipynb#X14sZmlsZQ%3D%3D?line=3'>4</a>\u001b[0m reg_model\u001b[39m.\u001b[39mfit(features, response)\n",
      "\u001b[1;31mModuleNotFoundError\u001b[0m: No module named 'sklearn'"
     ]
    }
   ],
   "source": [
    "# Create an instance of LinearRegression and store it in a variable\n",
    "from sklearn.linear_model import LinearRegression\n",
    "reg_model = LinearRegression()\n",
    "# Fit the model with the features and response\n",
    "reg_model.fit(features, response)\n",
    "reg_model.fit"
   ]
  },
  {
   "cell_type": "markdown",
   "metadata": {
    "id": "iajaFsO7xKUt"
   },
   "source": [
    "## Examine Linear Regression Model Parameters\n",
    "\n",
    "View the trained model parameters by using the `coef_` and `intercept_` attributes of the trained model."
   ]
  },
  {
   "cell_type": "code",
   "execution_count": null,
   "metadata": {
    "id": "tneKsvsoxKUt",
    "outputId": "a3c1a212-8bf8-4553-cf57-cbf9e96e6e04"
   },
   "outputs": [],
   "source": [
    "# Print the coefficients of the Linear Regression model\n",
    "reg_model.coef_"
   ]
  },
  {
   "cell_type": "code",
   "execution_count": 2,
   "metadata": {
    "id": "uTTWW-Z0xKUu",
    "outputId": "1eb48e2a-153a-43ba-8a99-c5952cd45a35"
   },
   "outputs": [
    {
     "ename": "NameError",
     "evalue": "name 'reg_model' is not defined",
     "output_type": "error",
     "traceback": [
      "\u001b[1;31m---------------------------------------------------------------------------\u001b[0m",
      "\u001b[1;31mNameError\u001b[0m                                 Traceback (most recent call last)",
      "\u001b[1;32mc:\\Users\\arsen\\OneDrive\\Desktop\\ML Class\\assignment1.ipynb Cell 15\u001b[0m in \u001b[0;36m<cell line: 1>\u001b[1;34m()\u001b[0m\n\u001b[1;32m----> <a href='vscode-notebook-cell:/c%3A/Users/arsen/OneDrive/Desktop/ML%20Class/assignment1.ipynb#X20sZmlsZQ%3D%3D?line=0'>1</a>\u001b[0m reg_model\u001b[39m.\u001b[39mintercept_\n",
      "\u001b[1;31mNameError\u001b[0m: name 'reg_model' is not defined"
     ]
    }
   ],
   "source": [
    "# Print the intercept of the Linear Regression model\n",
    "reg_model.intercept_"
   ]
  },
  {
   "cell_type": "markdown",
   "metadata": {
    "id": "d36mOAZkxKUu"
   },
   "source": [
    "## Making Predictions Using the Linear Regression Model\n",
    "\n",
    "Evaluate the model's performance on the training data set by invoking the `predict()` method and passing `features` to it.  Save this output as `preds`. \n"
   ]
  },
  {
   "cell_type": "code",
   "execution_count": null,
   "metadata": {
    "id": "1X5bkMgExKUv",
    "outputId": "cd331af6-61ef-4d94-cf78-925c28817bff"
   },
   "outputs": [],
   "source": [
    "# Use the Linear Regression model to predict the response for the given features\n",
    "preds = reg_model.predict(features)"
   ]
  },
  {
   "cell_type": "markdown",
   "metadata": {
    "id": "kFYHic54xKUv"
   },
   "source": [
    "Below are the results from the linear regression model:\n",
    "\n",
    "The column \"Class_pos\" regards the \"positive\" or negative classification of the pie.  The column \"Regression_Predictions\" regards the predictions made by the linear regression model directly.  The column \"Predicted_Responses\" are the adjusted prdeictions made by the model after employing the cut-off values of 0 being 0 <= x <= 0.5 and 1 being 0.5 < x <= 1.0.\n",
    "\n",
    "Note:  Make sure that your `response` is a DataFrame and not a Series or some of the code below may not function correctly."
   ]
  },
  {
   "cell_type": "code",
   "execution_count": null,
   "metadata": {
    "id": "2uuUg7_2xKUv",
    "outputId": "8bcc01d4-afcb-44c5-de62-94b674578dca"
   },
   "outputs": [],
   "source": [
    "# resp_comp = Response Comparison\n",
    "resp_comp = response.copy() \n",
    "reg_outputs = [float(reg_model.predict(np.reshape(row, (1, -1)))) for row in features.itertuples(index=False)]\n",
    "predicted_resp = np.array([1 if reg_output > 0.5 else 0 for reg_output in reg_outputs])\n",
    "resp_comp = resp_comp.assign(Regression_Predictions = reg_outputs)\n",
    "resp_comp = resp_comp.assign(Predicted_Responses = predicted_resp)\n",
    "resp_comp"
   ]
  },
  {
   "cell_type": "markdown",
   "metadata": {
    "id": "HdR22sklxKUw"
   },
   "source": [
    "## Calculate Model Accuracy\n",
    "\n",
    "Use the [accuracy_score()](https://scikit-learn.org/stable/modules/generated/sklearn.metrics.accuracy_score.html) function to calculate the accuracy score of the model.  Save the accuracy score as `acc_score`."
   ]
  },
  {
   "cell_type": "code",
   "execution_count": null,
   "metadata": {
    "id": "DLxiUXVKxKUw",
    "outputId": "70a0779b-77aa-4998-f590-e627f39ae8a1"
   },
   "outputs": [],
   "source": [
    "# Import the accuracy_score function from sklearn library\n",
    "from sklearn.metrics import accuracy_score\n",
    "acc_score = accuracy_score(resp_comp['Class_pos'], resp_comp['Predicted_Responses'])\n",
    "print(\"accuracy score: \", acc_score)"
   ]
  }
 ],
 "metadata": {
  "colab": {
   "collapsed_sections": [],
   "name": "Assignment_1_complete.ipynb",
   "provenance": []
  },
  "kernelspec": {
   "display_name": "Python 3",
   "language": "python",
   "name": "python3"
  },
  "language_info": {
   "codemirror_mode": {
    "name": "ipython",
    "version": 3
   },
   "file_extension": ".py",
   "mimetype": "text/x-python",
   "name": "python",
   "nbconvert_exporter": "python",
   "pygments_lexer": "ipython3",
   "version": "3.9.13"
  },
  "vscode": {
   "interpreter": {
    "hash": "05ea951f3613a2b78e1a7ff9e2a0a28146fd66b68293b4e8195cd88a1917754f"
   }
  }
 },
 "nbformat": 4,
 "nbformat_minor": 1
}
